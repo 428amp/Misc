{
 "cells": [
  {
   "cell_type": "code",
   "execution_count": 3,
   "metadata": {},
   "outputs": [],
   "source": [
    "import numpy as np\n",
    "import matplotlib as mpl\n",
    "import matplotlib.pyplot as plt"
   ]
  },
  {
   "cell_type": "code",
   "execution_count": 4,
   "metadata": {},
   "outputs": [],
   "source": [
    "X = 2*np.random.rand(100,1)\n",
    "y = 4+3*X+np.random.randn(100,1)"
   ]
  },
  {
   "cell_type": "code",
   "execution_count": 5,
   "metadata": {},
   "outputs": [
    {
     "data": {
      "text/plain": [
       "[<matplotlib.lines.Line2D at 0x243696d5f40>]"
      ]
     },
     "execution_count": 5,
     "metadata": {},
     "output_type": "execute_result"
    },
    {
     "data": {
      "image/png": "[encoded data removed]",
      "text/plain": [
       "<Figure size 432x288 with 1 Axes>"
      ]
     },
     "metadata": {
      "needs_background": "light"
     },
     "output_type": "display_data"
    }
   ],
   "source": [
    "plt.plot(X,y,'bo')"
   ]
  },
  {
   "cell_type": "code",
   "execution_count": 6,
   "metadata": {},
   "outputs": [
    {
     "data": {
      "text/plain": [
       "array([[4.19055783],\n",
       "       [2.9519647 ]])"
      ]
     },
     "execution_count": 6,
     "metadata": {},
     "output_type": "execute_result"
    }
   ],
   "source": [
    "X_b = np.c_[np.ones((100,1)), X]\n",
    "theta_best = np.linalg.inv(X_b.T.dot(X_b)).dot(X_b.T).dot(y)\n",
    "theta_best"
   ]
  },
  {
   "cell_type": "code",
   "execution_count": 7,
   "metadata": {},
   "outputs": [],
   "source": [
    "def batch_gradient_descent(theta, eta):\n",
    "  pass\n",
    "\n",
    "def stoch_gradient_descent():\n",
    "  pass\n",
    "\n",
    "def miniB_gradient_descent():\n",
    "  pass"
   ]
  },
  {
   "cell_type": "code",
   "execution_count": 8,
   "metadata": {},
   "outputs": [],
   "source": [
    "theta_path_bgd = []\n",
    "theta_path_sgd = []\n",
    "theta_path_mgd = []"
   ]
  },
  {
   "cell_type": "code",
   "execution_count": 9,
   "metadata": {},
   "outputs": [],
   "source": [
    "#batch\n",
    "m = len(X_b)\n",
    "n_iterations = 1000\n",
    "theta = np.random.randn(2,1)\n",
    "eta = 0.1\n",
    "for iteration in range(n_iterations):\n",
    "  gradients = 2/m*X_b.T.dot(X_b.dot(theta)-y)\n",
    "  theta = theta - eta*gradients\n",
    "  theta_path_bgd.append(theta)"
   ]
  },
  {
   "cell_type": "code",
   "execution_count": 10,
   "metadata": {},
   "outputs": [],
   "source": [
    "#stochastic\n",
    "n_epochs = 50\n",
    "t0, t1, = 5, 50\n",
    "\n",
    "def learning_schedule(t):\n",
    "  return t0/(t+t1)\n",
    "\n",
    "theta = np.random.randn(2,1)\n",
    "\n",
    "for epoch in range(n_epochs):\n",
    "  for i in range(n_epochs):\n",
    "    random_index = np.random.randint(m)\n",
    "    xi = X_b[random_index:random_index+1]\n",
    "    yi = y[random_index:random_index+1]\n",
    "    gradients = 2*xi.T.dot(xi.dot(theta)-yi)\n",
    "    eta = learning_schedule(epoch*m+i)\n",
    "    theta = theta - eta*gradients\n",
    "    theta_path_sgd.append(theta)"
   ]
  },
  {
   "cell_type": "code",
   "execution_count": 11,
   "metadata": {},
   "outputs": [],
   "source": [
    "#mini batch\n",
    "n_iterations = 50\n",
    "minibatch_size = 20\n",
    "\n",
    "np.random.seed(42)\n",
    "theta = np.random.randn(2, 1)\n",
    "\n",
    "t0, t1 = 200, 1000\n",
    "def learning_schedule(t):\n",
    "  return t0/(t+t1)\n",
    "\n",
    "t = 0\n",
    "for epoch in range(n_iterations):\n",
    "  shuffled_indices = np.random.permutation(m)\n",
    "  X_b_shuffled = X_b[shuffled_indices]\n",
    "  y_shuffled = y[shuffled_indices]\n",
    "  for i in range(0, m, minibatch_size):\n",
    "    t += 1\n",
    "    xi = X_b_shuffled[i:i+minibatch_size]\n",
    "    yi = y_shuffled[i:i+minibatch_size]\n",
    "    gradients = 2/minibatch_size*xi.T.dot(xi.dot(theta)-yi)\n",
    "    eta = learning_schedule(t)\n",
    "    theta = theta - eta * gradients\n",
    "    theta_path_mgd.append(theta)"
   ]
  },
  {
   "cell_type": "code",
   "execution_count": 12,
   "metadata": {},
   "outputs": [
    {
     "data": {
      "image/png": "[encoded data removed]",
      "text/plain": [
       "<Figure size 432x288 with 1 Axes>"
      ]
     },
     "metadata": {
      "needs_background": "light"
     },
     "output_type": "display_data"
    }
   ],
   "source": [
    "paths = [theta_path_bgd, theta_path_sgd, theta_path_mgd]\n",
    "styles = [\n",
    "  [\"b-o\", 3, \"batch\"],\n",
    "  [\"g-+\", 2, \"stoch\"],\n",
    "  [\"r-s\", 1, \"miniB\"],\n",
    "]\n",
    "\n",
    "for i in range(2, -1, -1):\n",
    "# for i in range(3):\n",
    "  path = paths[i]\n",
    "  style = styles[i]\n",
    "  path = np.array(path)\n",
    "  plt.plot(path[:, 0], path[:, 1], style[0], linewidth=style[1], label=style[2])\n",
    "plt.legend(loc=\"best\")\n",
    "plt.show()"
   ]
  },
  {
   "cell_type": "code",
   "execution_count": 13,
   "metadata": {},
   "outputs": [
    {
     "data": {
      "text/plain": [
       "(array([[4.19055783],\n",
       "        [2.9519647 ]]),\n",
       " array([[4.19055783],\n",
       "        [2.9519647 ]]),\n",
       " array([[4.16132904],\n",
       "        [3.00078903]]),\n",
       " array([[4.24733754],\n",
       "        [3.01962554]]))"
      ]
     },
     "execution_count": 13,
     "metadata": {},
     "output_type": "execute_result"
    }
   ],
   "source": [
    "theta_best, theta_path_bgd[-1], theta_path_sgd[-1], theta_path_mgd[-1]"
   ]
  },
  {
   "cell_type": "code",
   "execution_count": null,
   "metadata": {},
   "outputs": [],
   "source": []
  },
  {
   "cell_type": "code",
   "execution_count": null,
   "metadata": {},
   "outputs": [],
   "source": []
  }
 ],
 "metadata": {
  "kernelspec": {
   "display_name": "Python 3",
   "language": "python",
   "name": "python3"
  },
  "language_info": {
   "codemirror_mode": {
    "name": "ipython",
    "version": 3
   },
   "file_extension": ".py",
   "mimetype": "text/x-python",
   "name": "python",
   "nbconvert_exporter": "python",
   "pygments_lexer": "ipython3",
   "version": "3.8.5"
  }
 },
 "nbformat": 4,
 "nbformat_minor": 4
}
